{
 "cells": [
  {
   "cell_type": "code",
   "execution_count": 2,
   "id": "1e2aa100-a30a-4975-8719-40d70014cd70",
   "metadata": {},
   "outputs": [],
   "source": [
    "import napari\n",
    "import ngff_zarr as nz\n",
    "import numpy as np\n",
    "\n",
    "from skimage.io import imsave\n",
    "from skimage.util import img_as_uint"
   ]
  },
  {
   "cell_type": "code",
   "execution_count": 3,
   "id": "700077b6-341f-4b45-b568-3b864465a1e8",
   "metadata": {},
   "outputs": [],
   "source": [
    "# image = np.zeros((50, 50, 50), dtype=float)\n",
    "# multiscales = nz.to_multiscales(image, scale_factors=[])\n",
    "# nz.to_ngff_zarr('example.ome.zarr', multiscales)"
   ]
  },
  {
   "cell_type": "code",
   "execution_count": null,
   "id": "6625bd43-4ff5-4c83-a68a-9027e8b00f06",
   "metadata": {},
   "outputs": [],
   "source": []
  },
  {
   "cell_type": "code",
   "execution_count": 4,
   "id": "0de662c9-cf93-48b8-8ef3-9875390f76f0",
   "metadata": {},
   "outputs": [],
   "source": [
    "image_0 = np.zeros((50, 50, 50), dtype=np.float32)\n",
    "image_0[15:30, 15:35, 15:35] = 0.5\n",
    "image_0[20:30, 18:28, 18:32] = 0"
   ]
  },
  {
   "cell_type": "code",
   "execution_count": 5,
   "id": "ea39a2a5-865d-4203-a646-1a1dab73298c",
   "metadata": {},
   "outputs": [],
   "source": [
    "translate = (10.5, 8.5, 8.5)\n",
    "\n",
    "image_1 = np.zeros((20, 20, 20), dtype=np.float32)\n",
    "image_1[5:10, 5:10, 5:12] = 1\n",
    "\n"
   ]
  },
  {
   "cell_type": "code",
   "execution_count": 6,
   "id": "ccf7313b-423a-40ab-bfd9-87c96767b827",
   "metadata": {},
   "outputs": [],
   "source": [
    "imsave(\"volume_no_transform.tif\", img_as_uint(image_0))\n",
    "imsave(\n",
    "    \"volume_translate_10_5_8_5_8_5_scale_2_2_2.tif\",\n",
    "    img_as_uint(image_1)\n",
    ")"
   ]
  },
  {
   "cell_type": "code",
   "execution_count": 7,
   "id": "1093d8b7-1a77-4385-8322-3e01e6236569",
   "metadata": {},
   "outputs": [
    {
     "data": {
      "text/plain": [
       "<Image layer 'image_1' at 0x32398c2b0>"
      ]
     },
     "execution_count": 7,
     "metadata": {},
     "output_type": "execute_result"
    }
   ],
   "source": [
    "viewer = napari.Viewer()\n",
    "viewer.add_image(\n",
    "    image_0,\n",
    "    rendering=\"iso\",\n",
    "    colormap=\"bop blue\",\n",
    "    blending=\"translucent\"\n",
    ")\n",
    "viewer.add_image(\n",
    "    image_1,\n",
    "    rendering=\"iso\",\n",
    "    colormap=\"bop orange\",\n",
    "    blending=\"translucent\"\n",
    ")\n",
    "\n",
    "# translate = (3, 2, 2)\n",
    "# viewer.add_image(\n",
    "#     image_1,\n",
    "#     rendering=\"iso\",\n",
    "#     colormap=\"bop orange\",\n",
    "#     blending=\"translucent\",\n",
    "#     translate=translate,\n",
    "#     scale=(5, 5, 5),\n",
    "#     name=\"image_1 transformed\"\n",
    "# )"
   ]
  },
  {
   "cell_type": "code",
   "execution_count": 8,
   "id": "abd1c0e8-0f87-43a0-94c7-cf94296af91e",
   "metadata": {},
   "outputs": [
    {
     "data": {
      "text/plain": [
       "<Image layer 'image_1 transformed' at 0x324fedde0>"
      ]
     },
     "execution_count": 8,
     "metadata": {},
     "output_type": "execute_result"
    }
   ],
   "source": [
    "viewer.add_image(\n",
    "    image_1,\n",
    "    rendering=\"iso\",\n",
    "    colormap=\"bop orange\",\n",
    "    blending=\"additive\",\n",
    "    translate=translate,\n",
    "    scale=(2, 2, 2),\n",
    "    name=\"image_1 transformed\"\n",
    ")"
   ]
  },
  {
   "cell_type": "code",
   "execution_count": 9,
   "id": "8e8554e2-0889-4cf9-9c37-159b7d17eb84",
   "metadata": {},
   "outputs": [],
   "source": [
    "translation = np.array(\n",
    "    [\n",
    "        [0, 0, 0, 10.5],\n",
    "        [0, 0, 0, 8.5],\n",
    "        [0, 0, 0, 8.5],\n",
    "        [0, 0, 0, 0],\n",
    "    ]\n",
    ")\n",
    "\n",
    "scale = np.array(\n",
    "    [\n",
    "        [2, 0, 0, 0],\n",
    "        [0, 2, 0, 0],\n",
    "        [0, 0, 2, 0],\n",
    "        [0, 0, 0, 1],\n",
    "    ]\n",
    ")"
   ]
  },
  {
   "cell_type": "code",
   "execution_count": 10,
   "id": "e7ad7d19-3676-44b0-b615-2dcc0b882b67",
   "metadata": {},
   "outputs": [
    {
     "data": {
      "text/plain": [
       "array([[ 2. ,  0. ,  0. , 10.5],\n",
       "       [ 0. ,  2. ,  0. ,  8.5],\n",
       "       [ 0. ,  0. ,  2. ,  8.5],\n",
       "       [ 0. ,  0. ,  0. ,  1. ]])"
      ]
     },
     "execution_count": 10,
     "metadata": {},
     "output_type": "execute_result"
    }
   ],
   "source": [
    "transform = translation + scale\n",
    "transform"
   ]
  },
  {
   "cell_type": "code",
   "execution_count": 11,
   "id": "0d8a2f5d-22f0-4fff-a051-5d5dfa5d6101",
   "metadata": {},
   "outputs": [
    {
     "data": {
      "text/plain": [
       "<Image layer 'image_1 transformed [1]' at 0x325282890>"
      ]
     },
     "execution_count": 11,
     "metadata": {},
     "output_type": "execute_result"
    }
   ],
   "source": [
    "viewer.add_image(\n",
    "    image_1,\n",
    "    rendering=\"iso\",\n",
    "    colormap=\"bop orange\",\n",
    "    blending=\"additive\",\n",
    "    affine=transform,\n",
    "    name=\"image_1 transformed\"\n",
    ")"
   ]
  },
  {
   "cell_type": "code",
   "execution_count": 12,
   "id": "ef8c2210-3147-4bec-b176-3cf6636b74c9",
   "metadata": {},
   "outputs": [
    {
     "name": "stderr",
     "output_type": "stream",
     "text": [
      "/opt/miniconda3/envs/ome/lib/python3.10/site-packages/dask/dataframe/__init__.py:31: FutureWarning: The legacy Dask DataFrame implementation is deprecated and will be removed in a future version. Set the configuration option `dataframe.query-planning` to `True` or None to enable the new Dask Dataframe implementation and silence this warning.\n",
      "  warnings.warn(\n"
     ]
    }
   ],
   "source": [
    "from spatialdata.transformations import Affine, Sequence, Translation, Scale"
   ]
  },
  {
   "cell_type": "code",
   "execution_count": 14,
   "id": "b2dc769d-b12a-4b3d-8c87-348c423da433",
   "metadata": {},
   "outputs": [
    {
     "data": {
      "text/plain": [
       "Scale (z, x, y)\n",
       "    [2. 2. 2.]"
      ]
     },
     "execution_count": 14,
     "metadata": {},
     "output_type": "execute_result"
    }
   ],
   "source": [
    "scale = Scale([2, 2, 2], axes=('z', 'x', 'y'))\n",
    "scale"
   ]
  },
  {
   "cell_type": "code",
   "execution_count": 15,
   "id": "d35540fa-d09a-440e-86e7-8b6fa2098ca3",
   "metadata": {},
   "outputs": [
    {
     "data": {
      "text/plain": [
       "Translation (z, y, x)\n",
       "    [10.5  8.5  8.5]"
      ]
     },
     "execution_count": 15,
     "metadata": {},
     "output_type": "execute_result"
    }
   ],
   "source": [
    "translation = Translation([10.5, 8.5, 8.5], axes=('z', 'y'))\n",
    "translation"
   ]
  },
  {
   "cell_type": "code",
   "execution_count": 18,
   "id": "d11b2d18-0ab2-407d-a719-96a9a5ff7ca7",
   "metadata": {},
   "outputs": [
    {
     "data": {
      "text/plain": [
       "Sequence \n",
       "    Scale (z, x, y)\n",
       "        [2. 2. 2.]\n",
       "    Translation (z, y, x)\n",
       "        [10.5  8.5  8.5]"
      ]
     },
     "execution_count": 18,
     "metadata": {},
     "output_type": "execute_result"
    }
   ],
   "source": [
    "sequence = Sequence([scale, translation])\n",
    "sequence"
   ]
  },
  {
   "cell_type": "code",
   "execution_count": 24,
   "id": "b0b02e37-2528-4a66-9fdd-7a569e753def",
   "metadata": {},
   "outputs": [
    {
     "data": {
      "text/plain": [
       "array([[ 2. ,  0. ,  0. , 10.5],\n",
       "       [ 0. ,  2. ,  0. ,  8.5],\n",
       "       [ 0. ,  0. ,  2. ,  8.5],\n",
       "       [ 0. ,  0. ,  0. ,  1. ]])"
      ]
     },
     "execution_count": 24,
     "metadata": {},
     "output_type": "execute_result"
    }
   ],
   "source": [
    "sequence.to_affine_matrix(input_axes=('z', 'y', 'x'), output_axes=('z', 'y', 'x'))"
   ]
  },
  {
   "cell_type": "code",
   "execution_count": 32,
   "id": "e63d7d5f-1e3c-493a-9b6a-ac21fddc0938",
   "metadata": {},
   "outputs": [
    {
     "name": "stdout",
     "output_type": "stream",
     "text": [
      "{\n",
      "    \"type\": \"sequence\",\n",
      "    \"transformations\": [\n",
      "        {\n",
      "            \"type\": \"scale\",\n",
      "            \"scale\": [\n",
      "                2.0,\n",
      "                2.0,\n",
      "                2.0\n",
      "            ],\n",
      "            \"input\": {\n",
      "                \"name\": \"zyx\",\n",
      "                \"axes\": [\n",
      "                    {\n",
      "                        \"name\": \"z\",\n",
      "                        \"type\": \"space\",\n",
      "                        \"unit\": \"unit\"\n",
      "                    },\n",
      "                    {\n",
      "                        \"name\": \"y\",\n",
      "                        \"type\": \"space\",\n",
      "                        \"unit\": \"unit\"\n",
      "                    },\n",
      "                    {\n",
      "                        \"name\": \"x\",\n",
      "                        \"type\": \"space\",\n",
      "                        \"unit\": \"unit\"\n",
      "                    }\n",
      "                ]\n",
      "            },\n",
      "            \"output\": {\n",
      "                \"name\": \"global\",\n",
      "                \"axes\": [\n",
      "                    {\n",
      "                        \"name\": \"z\",\n",
      "                        \"type\": \"space\",\n",
      "                        \"unit\": \"unit\"\n",
      "                    },\n",
      "                    {\n",
      "                        \"name\": \"y\",\n",
      "                        \"type\": \"space\",\n",
      "                        \"unit\": \"unit\"\n",
      "                    },\n",
      "                    {\n",
      "                        \"name\": \"x\",\n",
      "                        \"type\": \"space\",\n",
      "                        \"unit\": \"unit\"\n",
      "                    }\n",
      "                ]\n",
      "            }\n",
      "        },\n",
      "        {\n",
      "            \"type\": \"translation\",\n",
      "            \"translation\": [\n",
      "                10.5,\n",
      "                8.5,\n",
      "                8.5\n",
      "            ],\n",
      "            \"input\": {\n",
      "                \"name\": \"zyx\",\n",
      "                \"axes\": [\n",
      "                    {\n",
      "                        \"name\": \"z\",\n",
      "                        \"type\": \"space\",\n",
      "                        \"unit\": \"unit\"\n",
      "                    },\n",
      "                    {\n",
      "                        \"name\": \"y\",\n",
      "                        \"type\": \"space\",\n",
      "                        \"unit\": \"unit\"\n",
      "                    },\n",
      "                    {\n",
      "                        \"name\": \"x\",\n",
      "                        \"type\": \"space\",\n",
      "                        \"unit\": \"unit\"\n",
      "                    }\n",
      "                ]\n",
      "            },\n",
      "            \"output\": {\n",
      "                \"name\": \"global\",\n",
      "                \"axes\": [\n",
      "                    {\n",
      "                        \"name\": \"z\",\n",
      "                        \"type\": \"space\",\n",
      "                        \"unit\": \"unit\"\n",
      "                    },\n",
      "                    {\n",
      "                        \"name\": \"y\",\n",
      "                        \"type\": \"space\",\n",
      "                        \"unit\": \"unit\"\n",
      "                    },\n",
      "                    {\n",
      "                        \"name\": \"x\",\n",
      "                        \"type\": \"space\",\n",
      "                        \"unit\": \"unit\"\n",
      "                    }\n",
      "                ]\n",
      "            }\n",
      "        }\n",
      "    ],\n",
      "    \"input\": {\n",
      "        \"name\": \"zyx\",\n",
      "        \"axes\": [\n",
      "            {\n",
      "                \"name\": \"z\",\n",
      "                \"type\": \"space\",\n",
      "                \"unit\": \"unit\"\n",
      "            },\n",
      "            {\n",
      "                \"name\": \"y\",\n",
      "                \"type\": \"space\",\n",
      "                \"unit\": \"unit\"\n",
      "            },\n",
      "            {\n",
      "                \"name\": \"x\",\n",
      "                \"type\": \"space\",\n",
      "                \"unit\": \"unit\"\n",
      "            }\n",
      "        ]\n",
      "    },\n",
      "    \"output\": {\n",
      "        \"name\": \"global\",\n",
      "        \"axes\": [\n",
      "            {\n",
      "                \"name\": \"z\",\n",
      "                \"type\": \"space\",\n",
      "                \"unit\": \"unit\"\n",
      "            },\n",
      "            {\n",
      "                \"name\": \"y\",\n",
      "                \"type\": \"space\",\n",
      "                \"unit\": \"unit\"\n",
      "            },\n",
      "            {\n",
      "                \"name\": \"x\",\n",
      "                \"type\": \"space\",\n",
      "                \"unit\": \"unit\"\n",
      "            }\n",
      "        ]\n",
      "    }\n",
      "}\n"
     ]
    }
   ],
   "source": [
    "import json\n",
    "print(json.dumps(sequence.to_ngff(input_axes=('z', 'y', 'x'), output_axes=('z', 'y', 'x')).to_dict(), indent=4))"
   ]
  },
  {
   "cell_type": "code",
   "execution_count": 36,
   "id": "c148c9e1-125a-4e4e-ac3d-3bfd64e72bc7",
   "metadata": {},
   "outputs": [
    {
     "name": "stderr",
     "output_type": "stream",
     "text": [
      "/opt/miniconda3/envs/ome/lib/python3.10/site-packages/anndata/_core/anndata.py:430: FutureWarning: The dtype argument is deprecated and will be removed in late 2024.\n",
      "  warnings.warn(\n",
      "/Users/macbook/embl/projects/basel/spatialdata/src/spatialdata/models/models.py:1027: UserWarning: Converting `region_key: region` to categorical dtype.\n",
      "  return convert_region_column_to_categorical(adata)\n"
     ]
    },
    {
     "data": {
      "text/plain": [
       "SpatialData object\n",
       "├── Images\n",
       "│     ├── 'blobs_image': DataArray[cyx] (3, 512, 512)\n",
       "│     └── 'blobs_multiscale_image': DataTree[cyx] (3, 512, 512), (3, 256, 256), (3, 128, 128)\n",
       "├── Labels\n",
       "│     ├── 'blobs_labels': DataArray[yx] (512, 512)\n",
       "│     └── 'blobs_multiscale_labels': DataTree[yx] (512, 512), (256, 256), (128, 128)\n",
       "├── Points\n",
       "│     └── 'blobs_points': DataFrame with shape: (<Delayed>, 4) (2D points)\n",
       "├── Shapes\n",
       "│     ├── 'blobs_circles': GeoDataFrame shape: (5, 2) (2D shapes)\n",
       "│     ├── 'blobs_multipolygons': GeoDataFrame shape: (2, 1) (2D shapes)\n",
       "│     └── 'blobs_polygons': GeoDataFrame shape: (5, 1) (2D shapes)\n",
       "└── Tables\n",
       "      └── 'table': AnnData (26, 3)\n",
       "with coordinate systems:\n",
       "    ▸ 'global', with elements:\n",
       "        blobs_image (Images), blobs_multiscale_image (Images), blobs_labels (Labels), blobs_multiscale_labels (Labels), blobs_points (Points), blobs_circles (Shapes), blobs_multipolygons (Shapes), blobs_polygons (Shapes)"
      ]
     },
     "execution_count": 36,
     "metadata": {},
     "output_type": "execute_result"
    }
   ],
   "source": [
    "from spatialdata.datasets import blobs\n",
    "\n",
    "sdata = blobs()\n",
    "sdata"
   ]
  },
  {
   "cell_type": "code",
   "execution_count": 47,
   "id": "a6e862cc-d66d-4226-ad2d-065adb799751",
   "metadata": {},
   "outputs": [],
   "source": [
    "affine = sequence.to_affine(input_axes=('z', 'y', 'x'), output_axes=('z', 'y', 'x'))"
   ]
  },
  {
   "cell_type": "code",
   "execution_count": 48,
   "id": "4913d381-d9f6-4ab2-be35-ff754b51faab",
   "metadata": {},
   "outputs": [
    {
     "data": {
      "text/plain": [
       "Affine (z, y, x -> z, y, x)\n",
       "    [ 2.   0.   0.  10.5]\n",
       "    [0.  2.  0.  8.5]\n",
       "    [0.  0.  2.  8.5]\n",
       "    [0. 0. 0. 1.]"
      ]
     },
     "execution_count": 48,
     "metadata": {},
     "output_type": "execute_result"
    }
   ],
   "source": [
    "affine"
   ]
  },
  {
   "cell_type": "code",
   "execution_count": 49,
   "id": "bb4fccfe-381a-49ab-a18b-4f64f9b8deed",
   "metadata": {},
   "outputs": [
    {
     "data": {
      "text/plain": [
       "Sequence \n",
       "    Scale (z, x, y)\n",
       "        [2. 2. 2.]\n",
       "    Translation (z, y, x)\n",
       "        [10.5  8.5  8.5]"
      ]
     },
     "execution_count": 49,
     "metadata": {},
     "output_type": "execute_result"
    }
   ],
   "source": [
    "sequence"
   ]
  },
  {
   "cell_type": "code",
   "execution_count": 43,
   "id": "66ed0189-e324-4d88-9791-6c31c437823d",
   "metadata": {},
   "outputs": [
    {
     "data": {
      "text/plain": [
       "SpatialData object\n",
       "├── Images\n",
       "│     ├── 'blobs_image': DataArray[cyx] (3, 512, 512)\n",
       "│     └── 'blobs_multiscale_image': DataTree[cyx] (3, 512, 512), (3, 256, 256), (3, 128, 128)\n",
       "├── Labels\n",
       "│     ├── 'blobs_labels': DataArray[yx] (512, 512)\n",
       "│     └── 'blobs_multiscale_labels': DataTree[yx] (512, 512), (256, 256), (128, 128)\n",
       "├── Points\n",
       "│     └── 'blobs_points': DataFrame with shape: (<Delayed>, 4) (2D points)\n",
       "├── Shapes\n",
       "│     ├── 'blobs_circles': GeoDataFrame shape: (5, 2) (2D shapes)\n",
       "│     ├── 'blobs_multipolygons': GeoDataFrame shape: (2, 1) (2D shapes)\n",
       "│     └── 'blobs_polygons': GeoDataFrame shape: (5, 1) (2D shapes)\n",
       "└── Tables\n",
       "      └── 'table': AnnData (26, 3)\n",
       "with coordinate systems:\n",
       "    ▸ 'global', with elements:\n",
       "        blobs_image (Images), blobs_multiscale_image (Images), blobs_labels (Labels), blobs_multiscale_labels (Labels), blobs_points (Points), blobs_circles (Shapes), blobs_multipolygons (Shapes), blobs_polygons (Shapes)"
      ]
     },
     "execution_count": 43,
     "metadata": {},
     "output_type": "execute_result"
    }
   ],
   "source": [
    "sdata"
   ]
  },
  {
   "cell_type": "code",
   "execution_count": 44,
   "id": "8b50096c-827d-4ff7-8551-ae786e5b2809",
   "metadata": {},
   "outputs": [],
   "source": [
    "from spatialdata.models import Labels3DModel"
   ]
  },
  {
   "cell_type": "code",
   "execution_count": 46,
   "id": "84e17ef8-24cf-4061-9962-ada52509363f",
   "metadata": {},
   "outputs": [
    {
     "name": "stdout",
     "output_type": "stream",
     "text": [
      "\u001b[34mINFO    \u001b[0m no axes information specified in the object, setting `dims` to: \u001b[1m(\u001b[0m\u001b[32m'z'\u001b[0m, \u001b[32m'y'\u001b[0m, \u001b[32m'x'\u001b[0m\u001b[1m)\u001b[0m                           \n"
     ]
    }
   ],
   "source": [
    "x = Labels3DModel.parse(image_0)"
   ]
  },
  {
   "cell_type": "code",
   "execution_count": 51,
   "id": "42234747-3019-4fd8-8d32-ecf81cd32009",
   "metadata": {},
   "outputs": [
    {
     "data": {
      "text/html": [
       "<div><svg style=\"position: absolute; width: 0; height: 0; overflow: hidden\">\n",
       "<defs>\n",
       "<symbol id=\"icon-database\" viewBox=\"0 0 32 32\">\n",
       "<path d=\"M16 0c-8.837 0-16 2.239-16 5v4c0 2.761 7.163 5 16 5s16-2.239 16-5v-4c0-2.761-7.163-5-16-5z\"></path>\n",
       "<path d=\"M16 17c-8.837 0-16-2.239-16-5v6c0 2.761 7.163 5 16 5s16-2.239 16-5v-6c0 2.761-7.163 5-16 5z\"></path>\n",
       "<path d=\"M16 26c-8.837 0-16-2.239-16-5v6c0 2.761 7.163 5 16 5s16-2.239 16-5v-6c0 2.761-7.163 5-16 5z\"></path>\n",
       "</symbol>\n",
       "<symbol id=\"icon-file-text2\" viewBox=\"0 0 32 32\">\n",
       "<path d=\"M28.681 7.159c-0.694-0.947-1.662-2.053-2.724-3.116s-2.169-2.030-3.116-2.724c-1.612-1.182-2.393-1.319-2.841-1.319h-15.5c-1.378 0-2.5 1.121-2.5 2.5v27c0 1.378 1.122 2.5 2.5 2.5h23c1.378 0 2.5-1.122 2.5-2.5v-19.5c0-0.448-0.137-1.23-1.319-2.841zM24.543 5.457c0.959 0.959 1.712 1.825 2.268 2.543h-4.811v-4.811c0.718 0.556 1.584 1.309 2.543 2.268zM28 29.5c0 0.271-0.229 0.5-0.5 0.5h-23c-0.271 0-0.5-0.229-0.5-0.5v-27c0-0.271 0.229-0.5 0.5-0.5 0 0 15.499-0 15.5 0v7c0 0.552 0.448 1 1 1h7v19.5z\"></path>\n",
       "<path d=\"M23 26h-14c-0.552 0-1-0.448-1-1s0.448-1 1-1h14c0.552 0 1 0.448 1 1s-0.448 1-1 1z\"></path>\n",
       "<path d=\"M23 22h-14c-0.552 0-1-0.448-1-1s0.448-1 1-1h14c0.552 0 1 0.448 1 1s-0.448 1-1 1z\"></path>\n",
       "<path d=\"M23 18h-14c-0.552 0-1-0.448-1-1s0.448-1 1-1h14c0.552 0 1 0.448 1 1s-0.448 1-1 1z\"></path>\n",
       "</symbol>\n",
       "</defs>\n",
       "</svg>\n",
       "<style>/* CSS stylesheet for displaying xarray objects in jupyterlab.\n",
       " *\n",
       " */\n",
       "\n",
       ":root {\n",
       "  --xr-font-color0: var(--jp-content-font-color0, rgba(0, 0, 0, 1));\n",
       "  --xr-font-color2: var(--jp-content-font-color2, rgba(0, 0, 0, 0.54));\n",
       "  --xr-font-color3: var(--jp-content-font-color3, rgba(0, 0, 0, 0.38));\n",
       "  --xr-border-color: var(--jp-border-color2, #e0e0e0);\n",
       "  --xr-disabled-color: var(--jp-layout-color3, #bdbdbd);\n",
       "  --xr-background-color: var(--jp-layout-color0, white);\n",
       "  --xr-background-color-row-even: var(--jp-layout-color1, white);\n",
       "  --xr-background-color-row-odd: var(--jp-layout-color2, #eeeeee);\n",
       "}\n",
       "\n",
       "html[theme=dark],\n",
       "html[data-theme=dark],\n",
       "body[data-theme=dark],\n",
       "body.vscode-dark {\n",
       "  --xr-font-color0: rgba(255, 255, 255, 1);\n",
       "  --xr-font-color2: rgba(255, 255, 255, 0.54);\n",
       "  --xr-font-color3: rgba(255, 255, 255, 0.38);\n",
       "  --xr-border-color: #1F1F1F;\n",
       "  --xr-disabled-color: #515151;\n",
       "  --xr-background-color: #111111;\n",
       "  --xr-background-color-row-even: #111111;\n",
       "  --xr-background-color-row-odd: #313131;\n",
       "}\n",
       "\n",
       ".xr-wrap {\n",
       "  display: block !important;\n",
       "  min-width: 300px;\n",
       "  max-width: 700px;\n",
       "}\n",
       "\n",
       ".xr-text-repr-fallback {\n",
       "  /* fallback to plain text repr when CSS is not injected (untrusted notebook) */\n",
       "  display: none;\n",
       "}\n",
       "\n",
       ".xr-header {\n",
       "  padding-top: 6px;\n",
       "  padding-bottom: 6px;\n",
       "  margin-bottom: 4px;\n",
       "  border-bottom: solid 1px var(--xr-border-color);\n",
       "}\n",
       "\n",
       ".xr-header > div,\n",
       ".xr-header > ul {\n",
       "  display: inline;\n",
       "  margin-top: 0;\n",
       "  margin-bottom: 0;\n",
       "}\n",
       "\n",
       ".xr-obj-type,\n",
       ".xr-array-name {\n",
       "  margin-left: 2px;\n",
       "  margin-right: 10px;\n",
       "}\n",
       "\n",
       ".xr-obj-type {\n",
       "  color: var(--xr-font-color2);\n",
       "}\n",
       "\n",
       ".xr-sections {\n",
       "  padding-left: 0 !important;\n",
       "  display: grid;\n",
       "  grid-template-columns: 150px auto auto 1fr 0 20px 0 20px;\n",
       "}\n",
       "\n",
       ".xr-section-item {\n",
       "  display: contents;\n",
       "}\n",
       "\n",
       ".xr-section-item input {\n",
       "  display: inline-block;\n",
       "  opacity: 0;\n",
       "}\n",
       "\n",
       ".xr-section-item input + label {\n",
       "  color: var(--xr-disabled-color);\n",
       "}\n",
       "\n",
       ".xr-section-item input:enabled + label {\n",
       "  cursor: pointer;\n",
       "  color: var(--xr-font-color2);\n",
       "}\n",
       "\n",
       ".xr-section-item input:focus + label {\n",
       "  border: 2px solid var(--xr-font-color0);\n",
       "}\n",
       "\n",
       ".xr-section-item input:enabled + label:hover {\n",
       "  color: var(--xr-font-color0);\n",
       "}\n",
       "\n",
       ".xr-section-summary {\n",
       "  grid-column: 1;\n",
       "  color: var(--xr-font-color2);\n",
       "  font-weight: 500;\n",
       "}\n",
       "\n",
       ".xr-section-summary > span {\n",
       "  display: inline-block;\n",
       "  padding-left: 0.5em;\n",
       "}\n",
       "\n",
       ".xr-section-summary-in:disabled + label {\n",
       "  color: var(--xr-font-color2);\n",
       "}\n",
       "\n",
       ".xr-section-summary-in + label:before {\n",
       "  display: inline-block;\n",
       "  content: '►';\n",
       "  font-size: 11px;\n",
       "  width: 15px;\n",
       "  text-align: center;\n",
       "}\n",
       "\n",
       ".xr-section-summary-in:disabled + label:before {\n",
       "  color: var(--xr-disabled-color);\n",
       "}\n",
       "\n",
       ".xr-section-summary-in:checked + label:before {\n",
       "  content: '▼';\n",
       "}\n",
       "\n",
       ".xr-section-summary-in:checked + label > span {\n",
       "  display: none;\n",
       "}\n",
       "\n",
       ".xr-section-summary,\n",
       ".xr-section-inline-details {\n",
       "  padding-top: 4px;\n",
       "  padding-bottom: 4px;\n",
       "}\n",
       "\n",
       ".xr-section-inline-details {\n",
       "  grid-column: 2 / -1;\n",
       "}\n",
       "\n",
       ".xr-section-details {\n",
       "  display: none;\n",
       "  grid-column: 1 / -1;\n",
       "  margin-bottom: 5px;\n",
       "}\n",
       "\n",
       ".xr-section-summary-in:checked ~ .xr-section-details {\n",
       "  display: contents;\n",
       "}\n",
       "\n",
       ".xr-array-wrap {\n",
       "  grid-column: 1 / -1;\n",
       "  display: grid;\n",
       "  grid-template-columns: 20px auto;\n",
       "}\n",
       "\n",
       ".xr-array-wrap > label {\n",
       "  grid-column: 1;\n",
       "  vertical-align: top;\n",
       "}\n",
       "\n",
       ".xr-preview {\n",
       "  color: var(--xr-font-color3);\n",
       "}\n",
       "\n",
       ".xr-array-preview,\n",
       ".xr-array-data {\n",
       "  padding: 0 5px !important;\n",
       "  grid-column: 2;\n",
       "}\n",
       "\n",
       ".xr-array-data,\n",
       ".xr-array-in:checked ~ .xr-array-preview {\n",
       "  display: none;\n",
       "}\n",
       "\n",
       ".xr-array-in:checked ~ .xr-array-data,\n",
       ".xr-array-preview {\n",
       "  display: inline-block;\n",
       "}\n",
       "\n",
       ".xr-dim-list {\n",
       "  display: inline-block !important;\n",
       "  list-style: none;\n",
       "  padding: 0 !important;\n",
       "  margin: 0;\n",
       "}\n",
       "\n",
       ".xr-dim-list li {\n",
       "  display: inline-block;\n",
       "  padding: 0;\n",
       "  margin: 0;\n",
       "}\n",
       "\n",
       ".xr-dim-list:before {\n",
       "  content: '(';\n",
       "}\n",
       "\n",
       ".xr-dim-list:after {\n",
       "  content: ')';\n",
       "}\n",
       "\n",
       ".xr-dim-list li:not(:last-child):after {\n",
       "  content: ',';\n",
       "  padding-right: 5px;\n",
       "}\n",
       "\n",
       ".xr-has-index {\n",
       "  font-weight: bold;\n",
       "}\n",
       "\n",
       ".xr-var-list,\n",
       ".xr-var-item {\n",
       "  display: contents;\n",
       "}\n",
       "\n",
       ".xr-var-item > div,\n",
       ".xr-var-item label,\n",
       ".xr-var-item > .xr-var-name span {\n",
       "  background-color: var(--xr-background-color-row-even);\n",
       "  margin-bottom: 0;\n",
       "}\n",
       "\n",
       ".xr-var-item > .xr-var-name:hover span {\n",
       "  padding-right: 5px;\n",
       "}\n",
       "\n",
       ".xr-var-list > li:nth-child(odd) > div,\n",
       ".xr-var-list > li:nth-child(odd) > label,\n",
       ".xr-var-list > li:nth-child(odd) > .xr-var-name span {\n",
       "  background-color: var(--xr-background-color-row-odd);\n",
       "}\n",
       "\n",
       ".xr-var-name {\n",
       "  grid-column: 1;\n",
       "}\n",
       "\n",
       ".xr-var-dims {\n",
       "  grid-column: 2;\n",
       "}\n",
       "\n",
       ".xr-var-dtype {\n",
       "  grid-column: 3;\n",
       "  text-align: right;\n",
       "  color: var(--xr-font-color2);\n",
       "}\n",
       "\n",
       ".xr-var-preview {\n",
       "  grid-column: 4;\n",
       "}\n",
       "\n",
       ".xr-index-preview {\n",
       "  grid-column: 2 / 5;\n",
       "  color: var(--xr-font-color2);\n",
       "}\n",
       "\n",
       ".xr-var-name,\n",
       ".xr-var-dims,\n",
       ".xr-var-dtype,\n",
       ".xr-preview,\n",
       ".xr-attrs dt {\n",
       "  white-space: nowrap;\n",
       "  overflow: hidden;\n",
       "  text-overflow: ellipsis;\n",
       "  padding-right: 10px;\n",
       "}\n",
       "\n",
       ".xr-var-name:hover,\n",
       ".xr-var-dims:hover,\n",
       ".xr-var-dtype:hover,\n",
       ".xr-attrs dt:hover {\n",
       "  overflow: visible;\n",
       "  width: auto;\n",
       "  z-index: 1;\n",
       "}\n",
       "\n",
       ".xr-var-attrs,\n",
       ".xr-var-data,\n",
       ".xr-index-data {\n",
       "  display: none;\n",
       "  background-color: var(--xr-background-color) !important;\n",
       "  padding-bottom: 5px !important;\n",
       "}\n",
       "\n",
       ".xr-var-attrs-in:checked ~ .xr-var-attrs,\n",
       ".xr-var-data-in:checked ~ .xr-var-data,\n",
       ".xr-index-data-in:checked ~ .xr-index-data {\n",
       "  display: block;\n",
       "}\n",
       "\n",
       ".xr-var-data > table {\n",
       "  float: right;\n",
       "}\n",
       "\n",
       ".xr-var-name span,\n",
       ".xr-var-data,\n",
       ".xr-index-name div,\n",
       ".xr-index-data,\n",
       ".xr-attrs {\n",
       "  padding-left: 25px !important;\n",
       "}\n",
       "\n",
       ".xr-attrs,\n",
       ".xr-var-attrs,\n",
       ".xr-var-data,\n",
       ".xr-index-data {\n",
       "  grid-column: 1 / -1;\n",
       "}\n",
       "\n",
       "dl.xr-attrs {\n",
       "  padding: 0;\n",
       "  margin: 0;\n",
       "  display: grid;\n",
       "  grid-template-columns: 125px auto;\n",
       "}\n",
       "\n",
       ".xr-attrs dt,\n",
       ".xr-attrs dd {\n",
       "  padding: 0;\n",
       "  margin: 0;\n",
       "  float: left;\n",
       "  padding-right: 10px;\n",
       "  width: auto;\n",
       "}\n",
       "\n",
       ".xr-attrs dt {\n",
       "  font-weight: normal;\n",
       "  grid-column: 1;\n",
       "}\n",
       "\n",
       ".xr-attrs dt:hover span {\n",
       "  display: inline-block;\n",
       "  background: var(--xr-background-color);\n",
       "  padding-right: 10px;\n",
       "}\n",
       "\n",
       ".xr-attrs dd {\n",
       "  grid-column: 2;\n",
       "  white-space: pre-wrap;\n",
       "  word-break: break-all;\n",
       "}\n",
       "\n",
       ".xr-icon-database,\n",
       ".xr-icon-file-text2,\n",
       ".xr-no-icon {\n",
       "  display: inline-block;\n",
       "  vertical-align: middle;\n",
       "  width: 1em;\n",
       "  height: 1.5em !important;\n",
       "  stroke-width: 0;\n",
       "  stroke: currentColor;\n",
       "  fill: currentColor;\n",
       "}\n",
       "</style><pre class='xr-text-repr-fallback'>&lt;xarray.DataArray &#x27;image&#x27; (z: 50, y: 50, x: 50)&gt; Size: 500kB\n",
       "dask.array&lt;array, shape=(50, 50, 50), dtype=float32, chunksize=(50, 50, 50), chunktype=numpy.ndarray&gt;\n",
       "Coordinates:\n",
       "  * z        (z) float64 400B 0.5 1.5 2.5 3.5 4.5 ... 45.5 46.5 47.5 48.5 49.5\n",
       "  * y        (y) float64 400B 0.5 1.5 2.5 3.5 4.5 ... 45.5 46.5 47.5 48.5 49.5\n",
       "  * x        (x) float64 400B 0.5 1.5 2.5 3.5 4.5 ... 45.5 46.5 47.5 48.5 49.5\n",
       "Attributes:\n",
       "    transform:  {&#x27;transformation0&#x27;: Affine (z, y, x -&gt; z, y, x)\\n    [ 2.   0...</pre><div class='xr-wrap' style='display:none'><div class='xr-header'><div class='xr-obj-type'>xarray.DataArray</div><div class='xr-array-name'>'image'</div><ul class='xr-dim-list'><li><span class='xr-has-index'>z</span>: 50</li><li><span class='xr-has-index'>y</span>: 50</li><li><span class='xr-has-index'>x</span>: 50</li></ul></div><ul class='xr-sections'><li class='xr-section-item'><div class='xr-array-wrap'><input id='section-96ffaced-b665-425d-a557-c2d1efb2fe63' class='xr-array-in' type='checkbox' checked><label for='section-96ffaced-b665-425d-a557-c2d1efb2fe63' title='Show/hide data repr'><svg class='icon xr-icon-database'><use xlink:href='#icon-database'></use></svg></label><div class='xr-array-preview xr-preview'><span>dask.array&lt;chunksize=(50, 50, 50), meta=np.ndarray&gt;</span></div><div class='xr-array-data'><table>\n",
       "    <tr>\n",
       "        <td>\n",
       "            <table style=\"border-collapse: collapse;\">\n",
       "                <thead>\n",
       "                    <tr>\n",
       "                        <td> </td>\n",
       "                        <th> Array </th>\n",
       "                        <th> Chunk </th>\n",
       "                    </tr>\n",
       "                </thead>\n",
       "                <tbody>\n",
       "                    \n",
       "                    <tr>\n",
       "                        <th> Bytes </th>\n",
       "                        <td> 488.28 kiB </td>\n",
       "                        <td> 488.28 kiB </td>\n",
       "                    </tr>\n",
       "                    \n",
       "                    <tr>\n",
       "                        <th> Shape </th>\n",
       "                        <td> (50, 50, 50) </td>\n",
       "                        <td> (50, 50, 50) </td>\n",
       "                    </tr>\n",
       "                    <tr>\n",
       "                        <th> Dask graph </th>\n",
       "                        <td colspan=\"2\"> 1 chunks in 1 graph layer </td>\n",
       "                    </tr>\n",
       "                    <tr>\n",
       "                        <th> Data type </th>\n",
       "                        <td colspan=\"2\"> float32 numpy.ndarray </td>\n",
       "                    </tr>\n",
       "                </tbody>\n",
       "            </table>\n",
       "        </td>\n",
       "        <td>\n",
       "        <svg width=\"250\" height=\"240\" style=\"stroke:rgb(0,0,0);stroke-width:1\" >\n",
       "\n",
       "  <!-- Horizontal lines -->\n",
       "  <line x1=\"10\" y1=\"0\" x2=\"80\" y2=\"70\" style=\"stroke-width:2\" />\n",
       "  <line x1=\"10\" y1=\"120\" x2=\"80\" y2=\"190\" style=\"stroke-width:2\" />\n",
       "\n",
       "  <!-- Vertical lines -->\n",
       "  <line x1=\"10\" y1=\"0\" x2=\"10\" y2=\"120\" style=\"stroke-width:2\" />\n",
       "  <line x1=\"80\" y1=\"70\" x2=\"80\" y2=\"190\" style=\"stroke-width:2\" />\n",
       "\n",
       "  <!-- Colored Rectangle -->\n",
       "  <polygon points=\"10.0,0.0 80.58823529411765,70.58823529411765 80.58823529411765,190.58823529411765 10.0,120.0\" style=\"fill:#ECB172A0;stroke-width:0\"/>\n",
       "\n",
       "  <!-- Horizontal lines -->\n",
       "  <line x1=\"10\" y1=\"0\" x2=\"130\" y2=\"0\" style=\"stroke-width:2\" />\n",
       "  <line x1=\"80\" y1=\"70\" x2=\"200\" y2=\"70\" style=\"stroke-width:2\" />\n",
       "\n",
       "  <!-- Vertical lines -->\n",
       "  <line x1=\"10\" y1=\"0\" x2=\"80\" y2=\"70\" style=\"stroke-width:2\" />\n",
       "  <line x1=\"130\" y1=\"0\" x2=\"200\" y2=\"70\" style=\"stroke-width:2\" />\n",
       "\n",
       "  <!-- Colored Rectangle -->\n",
       "  <polygon points=\"10.0,0.0 130.0,0.0 200.58823529411765,70.58823529411765 80.58823529411765,70.58823529411765\" style=\"fill:#ECB172A0;stroke-width:0\"/>\n",
       "\n",
       "  <!-- Horizontal lines -->\n",
       "  <line x1=\"80\" y1=\"70\" x2=\"200\" y2=\"70\" style=\"stroke-width:2\" />\n",
       "  <line x1=\"80\" y1=\"190\" x2=\"200\" y2=\"190\" style=\"stroke-width:2\" />\n",
       "\n",
       "  <!-- Vertical lines -->\n",
       "  <line x1=\"80\" y1=\"70\" x2=\"80\" y2=\"190\" style=\"stroke-width:2\" />\n",
       "  <line x1=\"200\" y1=\"70\" x2=\"200\" y2=\"190\" style=\"stroke-width:2\" />\n",
       "\n",
       "  <!-- Colored Rectangle -->\n",
       "  <polygon points=\"80.58823529411765,70.58823529411765 200.58823529411765,70.58823529411765 200.58823529411765,190.58823529411765 80.58823529411765,190.58823529411765\" style=\"fill:#ECB172A0;stroke-width:0\"/>\n",
       "\n",
       "  <!-- Text -->\n",
       "  <text x=\"140.588235\" y=\"210.588235\" font-size=\"1.0rem\" font-weight=\"100\" text-anchor=\"middle\" >50</text>\n",
       "  <text x=\"220.588235\" y=\"130.588235\" font-size=\"1.0rem\" font-weight=\"100\" text-anchor=\"middle\" transform=\"rotate(0,220.588235,130.588235)\">50</text>\n",
       "  <text x=\"35.294118\" y=\"175.294118\" font-size=\"1.0rem\" font-weight=\"100\" text-anchor=\"middle\" transform=\"rotate(45,35.294118,175.294118)\">50</text>\n",
       "</svg>\n",
       "        </td>\n",
       "    </tr>\n",
       "</table></div></div></li><li class='xr-section-item'><input id='section-af19ab19-bedf-4449-8cd5-07dbbd616738' class='xr-section-summary-in' type='checkbox'  checked><label for='section-af19ab19-bedf-4449-8cd5-07dbbd616738' class='xr-section-summary' >Coordinates: <span>(3)</span></label><div class='xr-section-inline-details'></div><div class='xr-section-details'><ul class='xr-var-list'><li class='xr-var-item'><div class='xr-var-name'><span class='xr-has-index'>z</span></div><div class='xr-var-dims'>(z)</div><div class='xr-var-dtype'>float64</div><div class='xr-var-preview xr-preview'>0.5 1.5 2.5 3.5 ... 47.5 48.5 49.5</div><input id='attrs-5a52c4fb-bd05-4ef8-8fec-120d9406a676' class='xr-var-attrs-in' type='checkbox' disabled><label for='attrs-5a52c4fb-bd05-4ef8-8fec-120d9406a676' title='Show/Hide attributes'><svg class='icon xr-icon-file-text2'><use xlink:href='#icon-file-text2'></use></svg></label><input id='data-480ed69b-82dc-4d7b-bf02-f42c95b2e313' class='xr-var-data-in' type='checkbox'><label for='data-480ed69b-82dc-4d7b-bf02-f42c95b2e313' title='Show/Hide data repr'><svg class='icon xr-icon-database'><use xlink:href='#icon-database'></use></svg></label><div class='xr-var-attrs'><dl class='xr-attrs'></dl></div><div class='xr-var-data'><pre>array([ 0.5,  1.5,  2.5,  3.5,  4.5,  5.5,  6.5,  7.5,  8.5,  9.5, 10.5, 11.5,\n",
       "       12.5, 13.5, 14.5, 15.5, 16.5, 17.5, 18.5, 19.5, 20.5, 21.5, 22.5, 23.5,\n",
       "       24.5, 25.5, 26.5, 27.5, 28.5, 29.5, 30.5, 31.5, 32.5, 33.5, 34.5, 35.5,\n",
       "       36.5, 37.5, 38.5, 39.5, 40.5, 41.5, 42.5, 43.5, 44.5, 45.5, 46.5, 47.5,\n",
       "       48.5, 49.5])</pre></div></li><li class='xr-var-item'><div class='xr-var-name'><span class='xr-has-index'>y</span></div><div class='xr-var-dims'>(y)</div><div class='xr-var-dtype'>float64</div><div class='xr-var-preview xr-preview'>0.5 1.5 2.5 3.5 ... 47.5 48.5 49.5</div><input id='attrs-d5143ff4-0aab-4ad9-87f6-1f71e9e7d055' class='xr-var-attrs-in' type='checkbox' disabled><label for='attrs-d5143ff4-0aab-4ad9-87f6-1f71e9e7d055' title='Show/Hide attributes'><svg class='icon xr-icon-file-text2'><use xlink:href='#icon-file-text2'></use></svg></label><input id='data-ba3f44c7-ac56-422c-a1c6-159dd59aace7' class='xr-var-data-in' type='checkbox'><label for='data-ba3f44c7-ac56-422c-a1c6-159dd59aace7' title='Show/Hide data repr'><svg class='icon xr-icon-database'><use xlink:href='#icon-database'></use></svg></label><div class='xr-var-attrs'><dl class='xr-attrs'></dl></div><div class='xr-var-data'><pre>array([ 0.5,  1.5,  2.5,  3.5,  4.5,  5.5,  6.5,  7.5,  8.5,  9.5, 10.5, 11.5,\n",
       "       12.5, 13.5, 14.5, 15.5, 16.5, 17.5, 18.5, 19.5, 20.5, 21.5, 22.5, 23.5,\n",
       "       24.5, 25.5, 26.5, 27.5, 28.5, 29.5, 30.5, 31.5, 32.5, 33.5, 34.5, 35.5,\n",
       "       36.5, 37.5, 38.5, 39.5, 40.5, 41.5, 42.5, 43.5, 44.5, 45.5, 46.5, 47.5,\n",
       "       48.5, 49.5])</pre></div></li><li class='xr-var-item'><div class='xr-var-name'><span class='xr-has-index'>x</span></div><div class='xr-var-dims'>(x)</div><div class='xr-var-dtype'>float64</div><div class='xr-var-preview xr-preview'>0.5 1.5 2.5 3.5 ... 47.5 48.5 49.5</div><input id='attrs-00c8bc46-3531-4226-b6c8-01f49f2c3fd5' class='xr-var-attrs-in' type='checkbox' disabled><label for='attrs-00c8bc46-3531-4226-b6c8-01f49f2c3fd5' title='Show/Hide attributes'><svg class='icon xr-icon-file-text2'><use xlink:href='#icon-file-text2'></use></svg></label><input id='data-1954536a-ce5a-41a7-943e-96fbaccf3791' class='xr-var-data-in' type='checkbox'><label for='data-1954536a-ce5a-41a7-943e-96fbaccf3791' title='Show/Hide data repr'><svg class='icon xr-icon-database'><use xlink:href='#icon-database'></use></svg></label><div class='xr-var-attrs'><dl class='xr-attrs'></dl></div><div class='xr-var-data'><pre>array([ 0.5,  1.5,  2.5,  3.5,  4.5,  5.5,  6.5,  7.5,  8.5,  9.5, 10.5, 11.5,\n",
       "       12.5, 13.5, 14.5, 15.5, 16.5, 17.5, 18.5, 19.5, 20.5, 21.5, 22.5, 23.5,\n",
       "       24.5, 25.5, 26.5, 27.5, 28.5, 29.5, 30.5, 31.5, 32.5, 33.5, 34.5, 35.5,\n",
       "       36.5, 37.5, 38.5, 39.5, 40.5, 41.5, 42.5, 43.5, 44.5, 45.5, 46.5, 47.5,\n",
       "       48.5, 49.5])</pre></div></li></ul></div></li><li class='xr-section-item'><input id='section-50b73ba5-ebc7-46cf-af85-2b2d1ced902f' class='xr-section-summary-in' type='checkbox'  ><label for='section-50b73ba5-ebc7-46cf-af85-2b2d1ced902f' class='xr-section-summary' >Indexes: <span>(3)</span></label><div class='xr-section-inline-details'></div><div class='xr-section-details'><ul class='xr-var-list'><li class='xr-var-item'><div class='xr-index-name'><div>z</div></div><div class='xr-index-preview'>PandasIndex</div><div></div><input id='index-d2653b80-3599-44c6-911e-21d43f0cd2e2' class='xr-index-data-in' type='checkbox'/><label for='index-d2653b80-3599-44c6-911e-21d43f0cd2e2' title='Show/Hide index repr'><svg class='icon xr-icon-database'><use xlink:href='#icon-database'></use></svg></label><div class='xr-index-data'><pre>PandasIndex(Index([ 0.5,  1.5,  2.5,  3.5,  4.5,  5.5,  6.5,  7.5,  8.5,  9.5, 10.5, 11.5,\n",
       "       12.5, 13.5, 14.5, 15.5, 16.5, 17.5, 18.5, 19.5, 20.5, 21.5, 22.5, 23.5,\n",
       "       24.5, 25.5, 26.5, 27.5, 28.5, 29.5, 30.5, 31.5, 32.5, 33.5, 34.5, 35.5,\n",
       "       36.5, 37.5, 38.5, 39.5, 40.5, 41.5, 42.5, 43.5, 44.5, 45.5, 46.5, 47.5,\n",
       "       48.5, 49.5],\n",
       "      dtype=&#x27;float64&#x27;, name=&#x27;z&#x27;))</pre></div></li><li class='xr-var-item'><div class='xr-index-name'><div>y</div></div><div class='xr-index-preview'>PandasIndex</div><div></div><input id='index-4b975427-3e2e-468c-a291-2acf719d1e64' class='xr-index-data-in' type='checkbox'/><label for='index-4b975427-3e2e-468c-a291-2acf719d1e64' title='Show/Hide index repr'><svg class='icon xr-icon-database'><use xlink:href='#icon-database'></use></svg></label><div class='xr-index-data'><pre>PandasIndex(Index([ 0.5,  1.5,  2.5,  3.5,  4.5,  5.5,  6.5,  7.5,  8.5,  9.5, 10.5, 11.5,\n",
       "       12.5, 13.5, 14.5, 15.5, 16.5, 17.5, 18.5, 19.5, 20.5, 21.5, 22.5, 23.5,\n",
       "       24.5, 25.5, 26.5, 27.5, 28.5, 29.5, 30.5, 31.5, 32.5, 33.5, 34.5, 35.5,\n",
       "       36.5, 37.5, 38.5, 39.5, 40.5, 41.5, 42.5, 43.5, 44.5, 45.5, 46.5, 47.5,\n",
       "       48.5, 49.5],\n",
       "      dtype=&#x27;float64&#x27;, name=&#x27;y&#x27;))</pre></div></li><li class='xr-var-item'><div class='xr-index-name'><div>x</div></div><div class='xr-index-preview'>PandasIndex</div><div></div><input id='index-43cbd671-2d27-46ec-99e1-c4d2ec100f27' class='xr-index-data-in' type='checkbox'/><label for='index-43cbd671-2d27-46ec-99e1-c4d2ec100f27' title='Show/Hide index repr'><svg class='icon xr-icon-database'><use xlink:href='#icon-database'></use></svg></label><div class='xr-index-data'><pre>PandasIndex(Index([ 0.5,  1.5,  2.5,  3.5,  4.5,  5.5,  6.5,  7.5,  8.5,  9.5, 10.5, 11.5,\n",
       "       12.5, 13.5, 14.5, 15.5, 16.5, 17.5, 18.5, 19.5, 20.5, 21.5, 22.5, 23.5,\n",
       "       24.5, 25.5, 26.5, 27.5, 28.5, 29.5, 30.5, 31.5, 32.5, 33.5, 34.5, 35.5,\n",
       "       36.5, 37.5, 38.5, 39.5, 40.5, 41.5, 42.5, 43.5, 44.5, 45.5, 46.5, 47.5,\n",
       "       48.5, 49.5],\n",
       "      dtype=&#x27;float64&#x27;, name=&#x27;x&#x27;))</pre></div></li></ul></div></li><li class='xr-section-item'><input id='section-4be4ed08-2798-4814-b954-1284ffdc20ac' class='xr-section-summary-in' type='checkbox'  checked><label for='section-4be4ed08-2798-4814-b954-1284ffdc20ac' class='xr-section-summary' >Attributes: <span>(1)</span></label><div class='xr-section-inline-details'></div><div class='xr-section-details'><dl class='xr-attrs'><dt><span>transform :</span></dt><dd>{&#x27;transformation0&#x27;: Affine (z, y, x -&gt; z, y, x)\n",
       "    [ 2.   0.   0.  10.5]\n",
       "    [0.  2.  0.  8.5]\n",
       "    [0.  0.  2.  8.5]\n",
       "    [0. 0. 0. 1.], &#x27;transformation1&#x27;: Sequence \n",
       "    Scale (z, x, y)\n",
       "        [2. 2. 2.]\n",
       "    Translation (z, y, x)\n",
       "        [10.5  8.5  8.5]}</dd></dl></div></li></ul></div></div>"
      ],
      "text/plain": [
       "<xarray.DataArray 'image' (z: 50, y: 50, x: 50)> Size: 500kB\n",
       "dask.array<array, shape=(50, 50, 50), dtype=float32, chunksize=(50, 50, 50), chunktype=numpy.ndarray>\n",
       "Coordinates:\n",
       "  * z        (z) float64 400B 0.5 1.5 2.5 3.5 4.5 ... 45.5 46.5 47.5 48.5 49.5\n",
       "  * y        (y) float64 400B 0.5 1.5 2.5 3.5 4.5 ... 45.5 46.5 47.5 48.5 49.5\n",
       "  * x        (x) float64 400B 0.5 1.5 2.5 3.5 4.5 ... 45.5 46.5 47.5 48.5 49.5\n",
       "Attributes:\n",
       "    transform:  {'transformation0': Affine (z, y, x -> z, y, x)\\n    [ 2.   0..."
      ]
     },
     "execution_count": 51,
     "metadata": {},
     "output_type": "execute_result"
    }
   ],
   "source": [
    "from spatialdata.transformations import set_transformation\n",
    "\n",
    "set_transformation(x, {'transformation0': affine, 'transformation1': sequence}, set_all=True)\n",
    "x"
   ]
  },
  {
   "cell_type": "code",
   "execution_count": 53,
   "id": "1e1b055d-1ea4-4648-bb97-81c9dbd173e1",
   "metadata": {},
   "outputs": [
    {
     "name": "stderr",
     "output_type": "stream",
     "text": [
      "/Users/macbook/embl/projects/basel/spatialdata/src/spatialdata/_core/_elements.py:79: UserWarning: Key `x` already exists. Overwriting it in-memory.\n",
      "  self._check_key(key, self.keys(), self._shared_keys)\n"
     ]
    },
    {
     "data": {
      "text/plain": [
       "SpatialData object\n",
       "├── Images\n",
       "│     ├── 'blobs_image': DataArray[cyx] (3, 512, 512)\n",
       "│     └── 'blobs_multiscale_image': DataTree[cyx] (3, 512, 512), (3, 256, 256), (3, 128, 128)\n",
       "├── Labels\n",
       "│     ├── 'blobs_labels': DataArray[yx] (512, 512)\n",
       "│     ├── 'blobs_multiscale_labels': DataTree[yx] (512, 512), (256, 256), (128, 128)\n",
       "│     └── 'x': DataArray[zyx] (50, 50, 50)\n",
       "├── Points\n",
       "│     └── 'blobs_points': DataFrame with shape: (<Delayed>, 4) (2D points)\n",
       "├── Shapes\n",
       "│     ├── 'blobs_circles': GeoDataFrame shape: (5, 2) (2D shapes)\n",
       "│     ├── 'blobs_multipolygons': GeoDataFrame shape: (2, 1) (2D shapes)\n",
       "│     └── 'blobs_polygons': GeoDataFrame shape: (5, 1) (2D shapes)\n",
       "└── Tables\n",
       "      └── 'table': AnnData (26, 3)\n",
       "with coordinate systems:\n",
       "    ▸ 'global', with elements:\n",
       "        blobs_image (Images), blobs_multiscale_image (Images), blobs_labels (Labels), blobs_multiscale_labels (Labels), blobs_points (Points), blobs_circles (Shapes), blobs_multipolygons (Shapes), blobs_polygons (Shapes)\n",
       "    ▸ 'transformation0', with elements:\n",
       "        x (Labels)\n",
       "    ▸ 'transformation1', with elements:\n",
       "        x (Labels)"
      ]
     },
     "execution_count": 53,
     "metadata": {},
     "output_type": "execute_result"
    }
   ],
   "source": [
    "sdata['x'] = x\n",
    "sdata"
   ]
  },
  {
   "cell_type": "code",
   "execution_count": 54,
   "id": "5c20dacd-842b-4a0a-9069-7aa21aef10a2",
   "metadata": {},
   "outputs": [
    {
     "name": "stdout",
     "output_type": "stream",
     "text": [
      "\u001b[34mINFO    \u001b[0m The Zarr backing store has been changed from \u001b[3;35mNone\u001b[0m the new file path: \u001b[35m/Users/macbook/Desktop/\u001b[0m\u001b[95mdata.zarr\u001b[0m     \n"
     ]
    }
   ],
   "source": [
    "sdata.write('/Users/macbook/Desktop/data.zarr')"
   ]
  }
 ],
 "metadata": {
  "kernelspec": {
   "display_name": "Python 3 (ipykernel)",
   "language": "python",
   "name": "python3"
  },
  "language_info": {
   "codemirror_mode": {
    "name": "ipython",
    "version": 3
   },
   "file_extension": ".py",
   "mimetype": "text/x-python",
   "name": "python",
   "nbconvert_exporter": "python",
   "pygments_lexer": "ipython3",
   "version": "3.10.14"
  }
 },
 "nbformat": 4,
 "nbformat_minor": 5
}
